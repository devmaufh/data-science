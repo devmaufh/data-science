{
 "cells": [
  {
   "cell_type": "markdown",
   "metadata": {},
   "source": [
    "# Reading cvs"
   ]
  },
  {
   "cell_type": "code",
   "execution_count": 3,
   "metadata": {},
   "outputs": [],
   "source": [
    "import pandas as pd"
   ]
  },
  {
   "cell_type": "code",
   "execution_count": 18,
   "metadata": {},
   "outputs": [],
   "source": [
    "data = pd.read_excel('../datasets/delitos.xlsx')"
   ]
  },
  {
   "cell_type": "code",
   "execution_count": 20,
   "metadata": {},
   "outputs": [
    {
     "data": {
      "text/html": [
       "<div>\n",
       "<style scoped>\n",
       "    .dataframe tbody tr th:only-of-type {\n",
       "        vertical-align: middle;\n",
       "    }\n",
       "\n",
       "    .dataframe tbody tr th {\n",
       "        vertical-align: top;\n",
       "    }\n",
       "\n",
       "    .dataframe thead th {\n",
       "        text-align: right;\n",
       "    }\n",
       "</style>\n",
       "<table border=\"1\" class=\"dataframe\">\n",
       "  <thead>\n",
       "    <tr style=\"text-align: right;\">\n",
       "      <th></th>\n",
       "      <th>entidad</th>\n",
       "      <th>desc_entidad</th>\n",
       "      <th>municipio</th>\n",
       "      <th>desc_municipio</th>\n",
       "      <th>id_indicador</th>\n",
       "      <th>indicador</th>\n",
       "      <th>2010</th>\n",
       "      <th>2011</th>\n",
       "      <th>2012</th>\n",
       "      <th>2013</th>\n",
       "      <th>2014</th>\n",
       "      <th>unidad_medida</th>\n",
       "    </tr>\n",
       "  </thead>\n",
       "  <tbody>\n",
       "    <tr>\n",
       "      <th>0</th>\n",
       "      <td>0</td>\n",
       "      <td>Nacional</td>\n",
       "      <td>0</td>\n",
       "      <td>Nacional</td>\n",
       "      <td>6200001280</td>\n",
       "      <td>Presuntos delitos registrados como abuso de co...</td>\n",
       "      <td>NaN</td>\n",
       "      <td>931.0</td>\n",
       "      <td>909.0</td>\n",
       "      <td>1086.0</td>\n",
       "      <td>NaN</td>\n",
       "      <td>Delitos</td>\n",
       "    </tr>\n",
       "    <tr>\n",
       "      <th>1</th>\n",
       "      <td>0</td>\n",
       "      <td>Nacional</td>\n",
       "      <td>0</td>\n",
       "      <td>Nacional</td>\n",
       "      <td>6200001281</td>\n",
       "      <td>Presuntos delitos registrados como abuso sexua...</td>\n",
       "      <td>NaN</td>\n",
       "      <td>1507.0</td>\n",
       "      <td>1457.0</td>\n",
       "      <td>1505.0</td>\n",
       "      <td>NaN</td>\n",
       "      <td>Delitos</td>\n",
       "    </tr>\n",
       "    <tr>\n",
       "      <th>2</th>\n",
       "      <td>0</td>\n",
       "      <td>Nacional</td>\n",
       "      <td>0</td>\n",
       "      <td>Nacional</td>\n",
       "      <td>6200001282</td>\n",
       "      <td>Presuntos delitos registrados como allanamient...</td>\n",
       "      <td>NaN</td>\n",
       "      <td>963.0</td>\n",
       "      <td>1187.0</td>\n",
       "      <td>1255.0</td>\n",
       "      <td>NaN</td>\n",
       "      <td>Delitos</td>\n",
       "    </tr>\n",
       "    <tr>\n",
       "      <th>3</th>\n",
       "      <td>0</td>\n",
       "      <td>Nacional</td>\n",
       "      <td>0</td>\n",
       "      <td>Nacional</td>\n",
       "      <td>6200001283</td>\n",
       "      <td>Presuntos delitos registrados como amenazas en...</td>\n",
       "      <td>NaN</td>\n",
       "      <td>3191.0</td>\n",
       "      <td>3476.0</td>\n",
       "      <td>4178.0</td>\n",
       "      <td>NaN</td>\n",
       "      <td>Delitos</td>\n",
       "    </tr>\n",
       "    <tr>\n",
       "      <th>4</th>\n",
       "      <td>0</td>\n",
       "      <td>Nacional</td>\n",
       "      <td>0</td>\n",
       "      <td>Nacional</td>\n",
       "      <td>6200001284</td>\n",
       "      <td>Presuntos delitos registrados como corrupción ...</td>\n",
       "      <td>NaN</td>\n",
       "      <td>100.0</td>\n",
       "      <td>82.0</td>\n",
       "      <td>331.0</td>\n",
       "      <td>NaN</td>\n",
       "      <td>Delitos</td>\n",
       "    </tr>\n",
       "  </tbody>\n",
       "</table>\n",
       "</div>"
      ],
      "text/plain": [
       "   entidad desc_entidad  municipio desc_municipio  id_indicador  \\\n",
       "0        0     Nacional          0       Nacional    6200001280   \n",
       "1        0     Nacional          0       Nacional    6200001281   \n",
       "2        0     Nacional          0       Nacional    6200001282   \n",
       "3        0     Nacional          0       Nacional    6200001283   \n",
       "4        0     Nacional          0       Nacional    6200001284   \n",
       "\n",
       "                                           indicador  2010    2011    2012  \\\n",
       "0  Presuntos delitos registrados como abuso de co...   NaN   931.0   909.0   \n",
       "1  Presuntos delitos registrados como abuso sexua...   NaN  1507.0  1457.0   \n",
       "2  Presuntos delitos registrados como allanamient...   NaN   963.0  1187.0   \n",
       "3  Presuntos delitos registrados como amenazas en...   NaN  3191.0  3476.0   \n",
       "4  Presuntos delitos registrados como corrupción ...   NaN   100.0    82.0   \n",
       "\n",
       "     2013  2014 unidad_medida  \n",
       "0  1086.0   NaN       Delitos  \n",
       "1  1505.0   NaN       Delitos  \n",
       "2  1255.0   NaN       Delitos  \n",
       "3  4178.0   NaN       Delitos  \n",
       "4   331.0   NaN       Delitos  "
      ]
     },
     "execution_count": 20,
     "metadata": {},
     "output_type": "execute_result"
    }
   ],
   "source": [
    "data.head()"
   ]
  },
  {
   "cell_type": "code",
   "execution_count": null,
   "metadata": {},
   "outputs": [],
   "source": []
  }
 ],
 "metadata": {
  "kernelspec": {
   "display_name": "Python 3",
   "language": "python",
   "name": "python3"
  },
  "language_info": {
   "codemirror_mode": {
    "name": "ipython",
    "version": 3
   },
   "file_extension": ".py",
   "mimetype": "text/x-python",
   "name": "python",
   "nbconvert_exporter": "python",
   "pygments_lexer": "ipython3",
   "version": "3.7.0"
  }
 },
 "nbformat": 4,
 "nbformat_minor": 2
}
